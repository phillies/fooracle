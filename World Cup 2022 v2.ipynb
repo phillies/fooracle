{
 "cells": [
  {
   "cell_type": "code",
   "execution_count": 1,
   "metadata": {},
   "outputs": [],
   "source": [
    "import pandas as pd\n",
    "from fooracle import fooracle"
   ]
  },
  {
   "cell_type": "code",
   "execution_count": 2,
   "metadata": {},
   "outputs": [
    {
     "name": "stdout",
     "output_type": "stream",
     "text": [
      "Welcome, you have summoned the fooracle!\n",
      "I can see the past, now I'm ready to tell the future for the tournament in Qatar...\n"
     ]
    }
   ],
   "source": [
    "foo = fooracle(host='Qatar')"
   ]
  },
  {
   "cell_type": "code",
   "execution_count": 3,
   "metadata": {},
   "outputs": [],
   "source": [
    "groups = [\n",
    "    ['Qatar', 'Ecuador', 'Senegal', 'Netherlands'],\n",
    "    ['England', 'Iran', 'United States', 'Wales'],\n",
    "    ['Argentina', 'Saudi Arabia', 'Mexico', 'Poland'],\n",
    "    ['France', 'Australia', 'Denmark', 'Tunisia'],\n",
    "    ['Spain', 'Costa Rica',  'Germany', 'Japan'],\n",
    "    ['Belgium', 'Canada', 'Morocco', 'Croatia'],\n",
    "    ['Brazil', 'Serbia', 'Switzerland', 'Cameroon'],\n",
    "    ['Portugal', 'Ghana', 'Uruguay', 'South Korea']\n",
    "]"
   ]
  },
  {
   "cell_type": "code",
   "execution_count": 4,
   "metadata": {
    "scrolled": false
   },
   "outputs": [
    {
     "name": "stdout",
     "output_type": "stream",
     "text": [
      "Group A\n",
      "Qatar vs. Ecuador - 1 : 1\n",
      "Qatar vs. Senegal - 1 : 1\n",
      "Qatar vs. Netherlands - 1 : 2\n",
      "Ecuador vs. Senegal - 1 : 1\n",
      "Ecuador vs. Netherlands - 1 : 2\n",
      "Senegal vs. Netherlands - 0 : 2\n",
      "\n",
      "Group B\n",
      "England vs. Iran - 2 : 1\n",
      "England vs. United States - 2 : 1\n",
      "England vs. Wales - 2 : 1\n",
      "Iran vs. United States - 1 : 1\n",
      "Iran vs. Wales - 1 : 1\n",
      "United States vs. Wales - 1 : 2\n",
      "\n",
      "Group C\n",
      "Argentina vs. Saudi Arabia - 3 : 0\n",
      "Argentina vs. Mexico - 2 : 1\n",
      "Argentina vs. Poland - 2 : 1\n",
      "Saudi Arabia vs. Mexico - 1 : 2\n",
      "Saudi Arabia vs. Poland - 1 : 2\n",
      "Mexico vs. Poland - 1 : 2\n",
      "\n",
      "Group D\n",
      "France vs. Australia - 2 : 1\n",
      "France vs. Denmark - 2 : 1\n",
      "France vs. Tunisia - 2 : 1\n",
      "Australia vs. Denmark - 1 : 2\n",
      "Australia vs. Tunisia - 2 : 1\n",
      "Denmark vs. Tunisia - 2 : 1\n",
      "\n",
      "Group E\n",
      "Spain vs. Costa Rica - 2 : 1\n",
      "Spain vs. Germany - 2 : 1\n",
      "Spain vs. Japan - 3 : 1\n",
      "Costa Rica vs. Germany - 1 : 2\n",
      "Costa Rica vs. Japan - 2 : 1\n",
      "Germany vs. Japan - 3 : 1\n",
      "\n",
      "Group F\n",
      "Belgium vs. Canada - 2 : 1\n",
      "Belgium vs. Morocco - 2 : 1\n",
      "Belgium vs. Croatia - 1 : 2\n",
      "Canada vs. Morocco - 1 : 1\n",
      "Canada vs. Croatia - 1 : 2\n",
      "Morocco vs. Croatia - 1 : 2\n",
      "\n",
      "Group G\n",
      "Brazil vs. Serbia - 2 : 1\n",
      "Brazil vs. Switzerland - 2 : 1\n",
      "Brazil vs. Cameroon - 2 : 1\n",
      "Serbia vs. Switzerland - 1 : 1\n",
      "Serbia vs. Cameroon - 2 : 1\n",
      "Switzerland vs. Cameroon - 2 : 1\n",
      "\n",
      "Group H\n",
      "Portugal vs. Ghana - 2 : 1\n",
      "Portugal vs. Uruguay - 2 : 1\n",
      "Portugal vs. South Korea - 2 : 0\n",
      "Ghana vs. Uruguay - 1 : 2\n",
      "Ghana vs. South Korea - 1 : 1\n",
      "Uruguay vs. South Korea - 2 : 1\n",
      "\n",
      "Group A\n",
      "             points  goals_scored  goals_taken  goal_difference\n",
      "Netherlands       9             6            2                4\n",
      "Qatar             2             3            4               -1\n",
      "Ecuador           2             3            4               -1\n",
      "Senegal           2             2            4               -2\n",
      "\n",
      "\n",
      "Group B\n",
      "               points  goals_scored  goals_taken  goal_difference\n",
      "England             9             6            3                3\n",
      "Wales               4             4            4                0\n",
      "Iran                2             3            4               -1\n",
      "United States       1             3            5               -2\n",
      "\n",
      "\n",
      "Group C\n",
      "              points  goals_scored  goals_taken  goal_difference\n",
      "Argentina          9             7            2                5\n",
      "Poland             6             5            4                1\n",
      "Mexico             3             4            5               -1\n",
      "Saudi Arabia       0             2            7               -5\n",
      "\n",
      "\n",
      "Group D\n",
      "           points  goals_scored  goals_taken  goal_difference\n",
      "France          9             6            3                3\n",
      "Denmark         6             5            4                1\n",
      "Australia       3             4            5               -1\n",
      "Tunisia         0             3            6               -3\n",
      "\n",
      "\n",
      "Group E\n",
      "            points  goals_scored  goals_taken  goal_difference\n",
      "Spain            9             7            3                4\n",
      "Germany          6             6            4                2\n",
      "Costa Rica       3             4            5               -1\n",
      "Japan            0             3            8               -5\n",
      "\n",
      "\n",
      "Group F\n",
      "         points  goals_scored  goals_taken  goal_difference\n",
      "Croatia       9             6            3                3\n",
      "Belgium       6             5            4                1\n",
      "Canada        1             3            5               -2\n",
      "Morocco       1             3            5               -2\n",
      "\n",
      "\n",
      "Group G\n",
      "             points  goals_scored  goals_taken  goal_difference\n",
      "Brazil            9             6            3                3\n",
      "Serbia            4             4            4                0\n",
      "Switzerland       4             4            4                0\n",
      "Cameroon          0             3            6               -3\n",
      "\n",
      "\n",
      "Group H\n",
      "             points  goals_scored  goals_taken  goal_difference\n",
      "Portugal          9             6            2                4\n",
      "Uruguay           6             5            4                1\n",
      "Ghana             1             3            5               -2\n",
      "South Korea       1             2            5               -3\n",
      "\n",
      "\n",
      "Round of best 16\n",
      "Netherlands vs. Wales - 2 : 1\n",
      "Argentina vs. Denmark - 2 : 1\n",
      "Spain vs. Belgium - 2 : 1\n",
      "Brazil vs. Uruguay - 2 : 1\n",
      "England vs. Qatar - 0 : 3\n",
      "France vs. Poland - 2 : 1\n",
      "Croatia vs. Germany - 1 : 2\n",
      "Portugal vs. Serbia - 1 : 1 after 90 min, winner  Portugal\n",
      "\n",
      "Round of best 8\n",
      "Netherlands vs. Argentina - 2 : 1\n",
      "Spain vs. Brazil - 1 : 2\n",
      "Qatar vs. France - 1 : 2\n",
      "Germany vs. Portugal - 2 : 1\n",
      "\n",
      "Semifinal\n",
      "Netherlands vs. Brazil - 2 : 2 after 90 min, winner  Brazil\n",
      "France vs. Germany - 2 : 2 after 90 min, winner  Germany\n",
      "\n",
      "Final\n",
      "Brazil vs. Germany - 2 : 2 after 90 min, winner  Brazil\n",
      "Tournament champion: Brazil\n"
     ]
    },
    {
     "data": {
      "text/plain": [
       "'Brazil'"
      ]
     },
     "execution_count": 4,
     "metadata": {},
     "output_type": "execute_result"
    }
   ],
   "source": [
    "foo.foretell_tournament( groups )"
   ]
  },
  {
   "cell_type": "code",
   "execution_count": null,
   "metadata": {},
   "outputs": [],
   "source": []
  }
 ],
 "metadata": {
  "kernelspec": {
   "display_name": "Python 3.10.5 ('flask')",
   "language": "python",
   "name": "python3"
  },
  "language_info": {
   "codemirror_mode": {
    "name": "ipython",
    "version": 3
   },
   "file_extension": ".py",
   "mimetype": "text/x-python",
   "name": "python",
   "nbconvert_exporter": "python",
   "pygments_lexer": "ipython3",
   "version": "3.10.5"
  },
  "vscode": {
   "interpreter": {
    "hash": "b146752c029d4fddf977e07757d21825921c905e9c09da4e7aaf80e1beb7ff26"
   }
  }
 },
 "nbformat": 4,
 "nbformat_minor": 2
}
