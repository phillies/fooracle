{
 "cells": [
  {
   "cell_type": "code",
   "execution_count": 1,
   "metadata": {},
   "outputs": [],
   "source": [
    "import pandas as pd\n",
    "from fooracle import fooracle"
   ]
  },
  {
   "cell_type": "code",
   "execution_count": 3,
   "metadata": {},
   "outputs": [
    {
     "name": "stdout",
     "output_type": "stream",
     "text": [
      "Welcome, you have summoned the fooracle!\n",
      "I can see the past, now I'm ready to tell the future for the tournament in Qatar...\n"
     ]
    }
   ],
   "source": [
    "foo = fooracle(host='Qatar')"
   ]
  },
  {
   "cell_type": "code",
   "execution_count": 4,
   "metadata": {},
   "outputs": [],
   "source": [
    "groups = [\n",
    "    ['Qatar', 'Ecuador', 'Senegal', 'Netherlands'],\n",
    "    ['England', 'Iran', 'United States', 'Wales'],\n",
    "    ['Argentina', 'Saudi Arabia', 'Mexico', 'Poland'],\n",
    "    ['France', 'Australia', 'Denmark', 'Tunisia'],\n",
    "    ['Spain', 'Costa Rica',  'Germany', 'Japan'],\n",
    "    ['Belgium', 'Canada', 'Morocco', 'Croatia'],\n",
    "    ['Brazil', 'Serbia', 'Switzerland', 'Cameroon'],\n",
    "    ['Portugal', 'Ghana', 'Uruguay', 'South Korea']\n",
    "]"
   ]
  },
  {
   "cell_type": "code",
   "execution_count": 14,
   "metadata": {
    "scrolled": false
   },
   "outputs": [
    {
     "name": "stdout",
     "output_type": "stream",
     "text": [
      "Group A\n",
      "Qatar vs. Ecuador - 0 : 1\n",
      "Qatar vs. Senegal - 1 : 1\n",
      "Qatar vs. Netherlands - 5 : 2\n",
      "Ecuador vs. Senegal - 1 : 1\n",
      "Ecuador vs. Netherlands - 2 : 2\n",
      "Senegal vs. Netherlands - 1 : 1\n",
      "\n",
      "Group B\n",
      "England vs. Iran - 3 : 2\n",
      "England vs. United States - 1 : 1\n",
      "England vs. Wales - 3 : 1\n",
      "Iran vs. United States - 1 : 1\n",
      "Iran vs. Wales - 1 : 0\n",
      "United States vs. Wales - 2 : 0\n",
      "\n",
      "Group C\n",
      "Argentina vs. Saudi Arabia - 2 : 1\n",
      "Argentina vs. Mexico - 1 : 0\n",
      "Argentina vs. Poland - 0 : 2\n",
      "Saudi Arabia vs. Mexico - 2 : 2\n",
      "Saudi Arabia vs. Poland - 2 : 5\n",
      "Mexico vs. Poland - 1 : 1\n",
      "\n",
      "Group D\n",
      "France vs. Australia - 3 : 2\n",
      "France vs. Denmark - 0 : 2\n",
      "France vs. Tunisia - 3 : 3\n",
      "Australia vs. Denmark - 1 : 1\n",
      "Australia vs. Tunisia - 4 : 1\n",
      "Denmark vs. Tunisia - 1 : 2\n",
      "\n",
      "Group E\n",
      "Spain vs. Costa Rica - 2 : 2\n",
      "Spain vs. Germany - 1 : 2\n",
      "Spain vs. Japan - 2 : 2\n",
      "Costa Rica vs. Germany - 0 : 4\n",
      "Costa Rica vs. Japan - 0 : 1\n",
      "Germany vs. Japan - 2 : 2\n",
      "\n",
      "Group F\n",
      "Belgium vs. Canada - 2 : 1\n",
      "Belgium vs. Morocco - 2 : 4\n",
      "Belgium vs. Croatia - 3 : 1\n",
      "Canada vs. Morocco - 2 : 2\n",
      "Canada vs. Croatia - 2 : 0\n",
      "Morocco vs. Croatia - 3 : 0\n",
      "\n",
      "Group G\n",
      "Brazil vs. Serbia - 0 : 2\n",
      "Brazil vs. Switzerland - 4 : 0\n",
      "Brazil vs. Cameroon - 2 : 0\n",
      "Serbia vs. Switzerland - 3 : 1\n",
      "Serbia vs. Cameroon - 0 : 0\n",
      "Switzerland vs. Cameroon - 3 : 2\n",
      "\n",
      "Group H\n",
      "Portugal vs. Ghana - 3 : 0\n",
      "Portugal vs. Uruguay - 1 : 0\n",
      "Portugal vs. South Korea - 2 : 1\n",
      "Ghana vs. Uruguay - 1 : 1\n",
      "Ghana vs. South Korea - 1 : 4\n",
      "Uruguay vs. South Korea - 3 : 3\n",
      "\n",
      "Group A\n",
      "             points  goals_scored  goals_taken  goal_difference\n",
      "Ecuador           5             4            3                1\n",
      "Qatar             4             6            4                2\n",
      "Senegal           3             3            3                0\n",
      "Netherlands       2             5            8               -3\n",
      "\n",
      "\n",
      "Group B\n",
      "               points  goals_scored  goals_taken  goal_difference\n",
      "England             7             7            4                3\n",
      "United States       5             4            2                2\n",
      "Iran                4             4            4                0\n",
      "Wales               0             1            6               -5\n",
      "\n",
      "\n",
      "Group C\n",
      "              points  goals_scored  goals_taken  goal_difference\n",
      "Poland             7             8            3                5\n",
      "Argentina          6             3            3                0\n",
      "Mexico             2             3            4               -1\n",
      "Saudi Arabia       1             5            9               -4\n",
      "\n",
      "\n",
      "Group D\n",
      "           points  goals_scored  goals_taken  goal_difference\n",
      "Australia       4             7            5                2\n",
      "Denmark         4             4            3                1\n",
      "France          4             6            7               -1\n",
      "Tunisia         4             6            8               -2\n",
      "\n",
      "\n",
      "Group E\n",
      "            points  goals_scored  goals_taken  goal_difference\n",
      "Germany          7             8            3                5\n",
      "Japan            5             5            4                1\n",
      "Spain            2             5            6               -1\n",
      "Costa Rica       1             2            7               -5\n",
      "\n",
      "\n",
      "Group F\n",
      "         points  goals_scored  goals_taken  goal_difference\n",
      "Morocco       7             9            4                5\n",
      "Belgium       6             7            6                1\n",
      "Canada        4             5            4                1\n",
      "Croatia       0             1            8               -7\n",
      "\n",
      "\n",
      "Group G\n",
      "             points  goals_scored  goals_taken  goal_difference\n",
      "Serbia            7             5            1                4\n",
      "Brazil            6             6            2                4\n",
      "Switzerland       3             4            9               -5\n",
      "Cameroon          1             2            5               -3\n",
      "\n",
      "\n",
      "Group H\n",
      "             points  goals_scored  goals_taken  goal_difference\n",
      "Portugal          9             6            1                5\n",
      "South Korea       4             8            6                2\n",
      "Uruguay           2             4            5               -1\n",
      "Ghana             1             2            8               -6\n",
      "\n",
      "\n",
      "Round of best 16\n",
      "Ecuador vs. United States - 1 : 2\n",
      "Poland vs. Denmark - 1 : 0\n",
      "Germany vs. Belgium - 0 : 1\n",
      "Serbia vs. South Korea - 0 : 1\n",
      "England vs. Qatar - 1 : 0\n",
      "Australia vs. Argentina - 2 : 1\n",
      "Morocco vs. Japan - 1 : 3\n",
      "Portugal vs. Brazil - 1 : 2\n",
      "\n",
      "Round of best 8\n",
      "United States vs. Poland - 0 : 2\n",
      "Belgium vs. South Korea - 0 : 1\n",
      "England vs. Australia - 3 : 1\n",
      "Japan vs. Brazil - 0 : 1\n",
      "\n",
      "Semifinal\n",
      "Poland vs. South Korea - 1 : 2\n",
      "England vs. Brazil - 3 : 4\n",
      "\n",
      "Final\n",
      "South Korea vs. Brazil - 0 : 5\n",
      "Tournament champion: Brazil\n"
     ]
    },
    {
     "data": {
      "text/plain": [
       "'Brazil'"
      ]
     },
     "execution_count": 14,
     "metadata": {},
     "output_type": "execute_result"
    }
   ],
   "source": [
    "foo.foretell_tournament( groups )"
   ]
  },
  {
   "cell_type": "code",
   "execution_count": null,
   "metadata": {},
   "outputs": [],
   "source": []
  }
 ],
 "metadata": {
  "kernelspec": {
   "display_name": "Python 3.10.5 ('flask')",
   "language": "python",
   "name": "python3"
  },
  "language_info": {
   "codemirror_mode": {
    "name": "ipython",
    "version": 3
   },
   "file_extension": ".py",
   "mimetype": "text/x-python",
   "name": "python",
   "nbconvert_exporter": "python",
   "pygments_lexer": "ipython3",
   "version": "3.10.5"
  },
  "vscode": {
   "interpreter": {
    "hash": "b146752c029d4fddf977e07757d21825921c905e9c09da4e7aaf80e1beb7ff26"
   }
  }
 },
 "nbformat": 4,
 "nbformat_minor": 2
}
